{
  "cells": [
    {
      "cell_type": "markdown",
      "metadata": {
        "id": "view-in-github",
        "colab_type": "text"
      },
      "source": [
        "<a href=\"https://colab.research.google.com/github/Richetto1/exercicios-e-provas/blob/main/FIAP_prova_04_python_lista_strings_tuplas.ipynb\" target=\"_parent\"><img src=\"https://colab.research.google.com/assets/colab-badge.svg\" alt=\"Open In Colab\"/></a>"
      ]
    },
    {
      "cell_type": "markdown",
      "source": [
        "# Prova de Python\n",
        "## Conteúdo:\n",
        " - Listas\n",
        " - Strings\n",
        " - Tuplas\n"
      ],
      "metadata": {
        "id": "opofjKuiorv1"
      }
    },
    {
      "cell_type": "code",
      "source": [
        "# ------ Declarando Funções ------\n",
        "\n",
        "#Função que exibe chama o MENU\n",
        "def menu():\n",
        "  print('''\n",
        "MENU\n",
        "\n",
        "0 - SAIR\n",
        "1 - Digite um nome completo\n",
        "2 - Exibe separado o Nome do Sobrenome\n",
        "3 - Conta quantas palavras há no nome completo\n",
        "4 - Exibe em formato de bibliografia\n",
        "\n",
        "  ''')\n",
        "\n",
        "def nome_sobrenome(nc: str) -> None:\n",
        "  lista_nome = nc.split()\n",
        "  print(f\"\\nNome: {lista_nome[0]}\")\n",
        "  sobrenome = \" \".join(lista_nome[1:])\n",
        "  print(f\"Sobrenome: {sobrenome}\\n\")\n",
        "\n",
        "#Função que conta quantas palavras há no nome completo\n",
        "def conta_palavras(nc: str) -> int:\n",
        "  lista_nome = nc.split()\n",
        "  return len(lista_nome)\n",
        "\n",
        "#Função que exibe nome em formato de bibliografia\n",
        "def nome_bibliografia(nc: str) -> int:\n",
        "  lista_nome = nc.split()\n",
        "  ultimo_nome = lista_nome[-1].upper()\n",
        "  parte_nome = \" \".join(lista_nome[0:-1])\n",
        "  return ultimo_nome + ', ' + parte_nome\n"
      ],
      "metadata": {
        "id": "MLvpBPLBcfa8"
      },
      "execution_count": 17,
      "outputs": []
    },
    {
      "cell_type": "code",
      "source": [
        "# ------ Programa Pricipal ------\n",
        "\n",
        "nome_preenchido = False\n",
        "nome_completo = \" \"\n",
        "margem = \" \"*4\n",
        "\n",
        "while True:\n",
        "  menu()\n",
        "  opcao = input(margem + \"Escolha: \")\n",
        "  while not opcao.isnumeric(): #Enquanto não for digitado o valor numérico.\n",
        "    print(margem + \"Opção inválida, digite um item de 0 a 4.\")\n",
        "    opcao = input(margem + \"Escolha: \")\n",
        "  opcao = int(opcao)\n",
        "\n",
        "  match opcao:\n",
        "    case 0:\n",
        "      break\n",
        "    case 1:\n",
        "      nome_completo = input(\"\\n\" + margem + \"Digite um nome completo: \")\n",
        "      if nome_completo != \"\":\n",
        "        nome_preenchido = True\n",
        "      else:\n",
        "        nome_preenchido = False\n",
        "    case 2:\n",
        "      if nome_preenchido:\n",
        "        nome_sobrenome(nome_completo)\n",
        "      else:\n",
        "        print(margem + \"Primeiramente digite um nome na opção 1.\")\n",
        "    case 3:\n",
        "      if nome_preenchido:\n",
        "        print(f\" O nome {nome_completo} tem {conta_palavras(nome_completo)} palavras.\")\n",
        "      else:\n",
        "        print(margem + \"Primeiramente digite um nome na opção 1.\")\n",
        "    case 4:\n",
        "      if nome_preenchido:\n",
        "        print(nome_bibliografia(nome_completo))\n",
        "      else:\n",
        "        print(margem + \"Primeiramente digite um nome na opção 1.\")\n",
        "    case _:\n",
        "      print(margem + \"Opção inválida, digite um número de 0 a 4.\")\n",
        "  #input(\"\\n\" + margem + \"==> Digite algo para continuar...\")"
      ],
      "metadata": {
        "id": "9ftxwlyMjUfE"
      },
      "execution_count": null,
      "outputs": []
    }
  ],
  "metadata": {
    "colab": {
      "name": "Olá, este é o Colaboratory",
      "toc_visible": true,
      "provenance": [],
      "include_colab_link": true
    },
    "kernelspec": {
      "display_name": "Python 3",
      "name": "python3"
    }
  },
  "nbformat": 4,
  "nbformat_minor": 0
}