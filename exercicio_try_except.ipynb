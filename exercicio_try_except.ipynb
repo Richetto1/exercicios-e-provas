{
  "cells": [
    {
      "cell_type": "markdown",
      "metadata": {
        "id": "view-in-github",
        "colab_type": "text"
      },
      "source": [
        "<a href=\"https://colab.research.google.com/github/Richetto1/exercicios-e-provas/blob/main/exercicio_try_except.ipynb\" target=\"_parent\"><img src=\"https://colab.research.google.com/assets/colab-badge.svg\" alt=\"Open In Colab\"/></a>"
      ]
    },
    {
      "cell_type": "markdown",
      "source": [
        "## Exercício\n",
        "1. Considere o fechamento de semestre da FIAP, utilize as informações abaixo para montar um programa que realize o calculo da média semestral.\n",
        "- (20%) 3CP por Semestre (média tirando a menor nota)\n",
        "- (20%) 2 Sprints\n",
        "- (60%) 1 GS\n",
        "#####e calcule a média semestral."
      ],
      "metadata": {
        "id": "UTyF2NVQVEuF"
      }
    },
    {
      "cell_type": "code",
      "source": [
        "# Função que faz o condicionamento adequado no input das notas\n",
        "def confirmacao_nota(mensagem) -> float:\n",
        "  while True:\n",
        "    try:\n",
        "      numero = float(input(mensagem))\n",
        "      if numero >= 0 and numero < 11:\n",
        "        return numero\n",
        "      else:\n",
        "        print(\"Por favor digite uma nota valida.\")\n",
        "    except ValueError:\n",
        "      print(\"Você digitou um valor não númerico.\")\n",
        "    finally:\n",
        "      print(\" \")\n",
        "\n",
        "print(\"Calculando o fechamento da média semestral: \")\n",
        "try:\n",
        "  cp1 = confirmacao_nota(\"Digite a nota do 1° CheckPoint: \")\n",
        "  cp2 = confirmacao_nota(\"Digite a nota do 2° CheckPoint: \")\n",
        "  cp3 = confirmacao_nota(\"Digite a nota do 3° CheckPoint: \")\n",
        "  nota_minima = min(cp1, cp2, cp3)\n",
        "  media_cp = (cp1 + cp2 + cp3 - nota_minima) / 2\n",
        "\n",
        "  spr1 = confirmacao_nota(\"Digite a nota do 1° Sprint: \")\n",
        "  spr2 = confirmacao_nota(\"Digite a nota do 2° Sprint: \")\n",
        "  media_spr = (spr1 + spr2) / 2\n",
        "\n",
        "  gs = confirmacao_nota(\"Digite a nota do Global Solution: \")\n",
        "\n",
        "  media_final = (0.2 * media_cp) + (0.2 * media_spr) + (0.6 * gs)\n",
        "\n",
        "\n",
        "except ValueError:\n",
        "  print(\"Você digitou um valor não númerico.\")\n",
        "except ZeroDivisionError:\n",
        "  print(\"Não há divisão por zero!\")\n",
        "except:\n",
        "  print(\"Ocorreu um erro inesperado, favor contatar o T.I.!\")\n",
        "else: # o 'else' é executado caso não caia em nenhuma exceção.\n",
        "  print(\"O seu calculo foi execultado normalmente!\")\n",
        "  print(f\"A média semestreal é: {media_final:.1f}\")\n",
        "finally: # o finally acontece caso haja erro ou não.\n",
        "  print(\"A rotina foi execultada!\")"
      ],
      "metadata": {
        "id": "b9QefYmKU-2N"
      },
      "execution_count": null,
      "outputs": []
    }
  ],
  "metadata": {
    "colab": {
      "name": "Olá, este é o Colaboratory",
      "toc_visible": true,
      "provenance": [],
      "include_colab_link": true
    },
    "kernelspec": {
      "display_name": "Python 3",
      "name": "python3"
    }
  },
  "nbformat": 4,
  "nbformat_minor": 0
}